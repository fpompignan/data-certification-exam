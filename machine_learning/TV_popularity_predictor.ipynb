{
 "cells": [
  {
   "cell_type": "markdown",
   "metadata": {},
   "source": [
    "# TV shows Popularity Predictor (39%)\n",
    "\n",
    "The goal of this challenge is to create a model that predicts the `popularity` of a movie or TV show\n",
    "\n",
    "<img src=\"image.jpg\" width=300 />\n",
    "\n",
    "\n",
    "\n",
    "\n",
    "The dataset contains a list of movies and TV shows with the following characteristics:\n",
    "- `title`: title of the movie in english\n",
    "- `original_title`: original title of the movie \n",
    "- `duration_min`: duration of the movie in minutes\n",
    "- `popularity`: popularity of the movie in terms of review scores\n",
    "- `release_date`: release date\n",
    "- `description`: short summary of the movie\n",
    "- `budget`: budget spent to produce the movie in USD\n",
    "- `revenue`: movie revenue in USD \n",
    "- `original_language`: original language \n",
    "- `status`: is the movie already released or not\n",
    "- `number_of_awards_won`: number of awards won for the movie\n",
    "- `number_of_nominations`: number of nominations\n",
    "- `has_collection`: if the movie is part of a sequel or not\n",
    "- `all_genres`: genres that described the movie (can be zero, one or many!) \n",
    "- `top_countries`: countries where the movie was produced (can be zero, one or many!) \n",
    "- `number_of_top_productions`: number of top production companies that produced the film if any. \n",
    "Top production companies includes: Warner Bros, Universal Pictures, Paramount Pictures, Canal+, etc...\n",
    "- `available_in_english`: whether the movie is available in english or not"
   ]
  },
  {
   "cell_type": "markdown",
   "metadata": {},
   "source": [
    "## Imports\n",
    "\n",
    "Run the following cell to load the basic packages:"
   ]
  },
  {
   "cell_type": "code",
   "execution_count": 1,
   "metadata": {
    "ExecuteTime": {
     "end_time": "2021-06-29T17:29:05.325249Z",
     "start_time": "2021-06-29T17:29:04.415422Z"
    }
   },
   "outputs": [],
   "source": [
    "import numpy as np\n",
    "import pandas as pd\n",
    "import matplotlib.pyplot as plt\n",
    "import seaborn as sns\n",
    "from nbresult import ChallengeResult"
   ]
  },
  {
   "cell_type": "markdown",
   "metadata": {},
   "source": [
    "## Data collection\n",
    "\n",
    "📝 **Load the `movie_popularity.csv` dataset from the provided this [URL](https://wagon-public-datasets.s3.amazonaws.com/certification_france_2021_q2/tv_movies_popularity.csv)**\n",
    "- First, check and remove the rows that may be complete duplicate from one another (we never know!)\n",
    "- Then, drop the columns that have too much missing values\n",
    "- Finally, drop the few remaining rows that have missing values\n",
    "- Store the result in a `DataFrame` named `data`"
   ]
  },
  {
   "cell_type": "code",
   "execution_count": 2,
   "metadata": {
    "ExecuteTime": {
     "end_time": "2021-06-29T17:29:09.664618Z",
     "start_time": "2021-06-29T17:29:05.328223Z"
    },
    "scrolled": true,
    "slideshow": {
     "slide_type": "notes"
    },
    "tags": [
     "challengify"
    ]
   },
   "outputs": [
    {
     "data": {
      "text/html": [
       "<div>\n",
       "<style scoped>\n",
       "    .dataframe tbody tr th:only-of-type {\n",
       "        vertical-align: middle;\n",
       "    }\n",
       "\n",
       "    .dataframe tbody tr th {\n",
       "        vertical-align: top;\n",
       "    }\n",
       "\n",
       "    .dataframe thead th {\n",
       "        text-align: right;\n",
       "    }\n",
       "</style>\n",
       "<table border=\"1\" class=\"dataframe\">\n",
       "  <thead>\n",
       "    <tr style=\"text-align: right;\">\n",
       "      <th></th>\n",
       "      <th>original_title</th>\n",
       "      <th>title</th>\n",
       "      <th>popularity</th>\n",
       "      <th>release_date</th>\n",
       "      <th>duration_min</th>\n",
       "      <th>description</th>\n",
       "      <th>budget</th>\n",
       "      <th>revenue</th>\n",
       "      <th>original_language</th>\n",
       "      <th>status</th>\n",
       "      <th>number_of_awards_won</th>\n",
       "      <th>number_of_nominations</th>\n",
       "      <th>has_collection</th>\n",
       "      <th>all_genres</th>\n",
       "      <th>top_countries</th>\n",
       "      <th>number_of_top_productions</th>\n",
       "      <th>available_in_english</th>\n",
       "    </tr>\n",
       "  </thead>\n",
       "  <tbody>\n",
       "    <tr>\n",
       "      <th>0</th>\n",
       "      <td>Hot Tub Time Machine 2</td>\n",
       "      <td>Hot Tub Time Machine 2</td>\n",
       "      <td>6.575393</td>\n",
       "      <td>2015-02-20</td>\n",
       "      <td>93.0</td>\n",
       "      <td>When Lou's shot in the groin, Nick and Jacob d...</td>\n",
       "      <td>14000000</td>\n",
       "      <td>12314651.0</td>\n",
       "      <td>en</td>\n",
       "      <td>Released</td>\n",
       "      <td>0</td>\n",
       "      <td>2</td>\n",
       "      <td>1</td>\n",
       "      <td>Comedy</td>\n",
       "      <td>United States of America</td>\n",
       "      <td>3</td>\n",
       "      <td>True</td>\n",
       "    </tr>\n",
       "    <tr>\n",
       "      <th>1</th>\n",
       "      <td>The Princess Diaries 2: Royal Engagement</td>\n",
       "      <td>The Princess Diaries 2: Royal Engagement</td>\n",
       "      <td>8.248895</td>\n",
       "      <td>2004-08-06</td>\n",
       "      <td>113.0</td>\n",
       "      <td>Now settled in Genovia, Princess Mia faces a n...</td>\n",
       "      <td>40000000</td>\n",
       "      <td>95149435.0</td>\n",
       "      <td>en</td>\n",
       "      <td>Released</td>\n",
       "      <td>1</td>\n",
       "      <td>2</td>\n",
       "      <td>1</td>\n",
       "      <td>Comedy, Drama, Family, Romance</td>\n",
       "      <td>United States of America</td>\n",
       "      <td>1</td>\n",
       "      <td>True</td>\n",
       "    </tr>\n",
       "    <tr>\n",
       "      <th>2</th>\n",
       "      <td>Whiplash</td>\n",
       "      <td>Whiplash</td>\n",
       "      <td>64.299990</td>\n",
       "      <td>2014-10-10</td>\n",
       "      <td>105.0</td>\n",
       "      <td>A promising young drummer enrolls at a cut-thr...</td>\n",
       "      <td>3300000</td>\n",
       "      <td>13092000.0</td>\n",
       "      <td>en</td>\n",
       "      <td>Released</td>\n",
       "      <td>97</td>\n",
       "      <td>145</td>\n",
       "      <td>0</td>\n",
       "      <td>Drama</td>\n",
       "      <td>United States of America</td>\n",
       "      <td>0</td>\n",
       "      <td>True</td>\n",
       "    </tr>\n",
       "    <tr>\n",
       "      <th>3</th>\n",
       "      <td>Kahaani</td>\n",
       "      <td>Kahaani</td>\n",
       "      <td>3.174936</td>\n",
       "      <td>2012-03-09</td>\n",
       "      <td>122.0</td>\n",
       "      <td>A pregnant woman's search for her missing husb...</td>\n",
       "      <td>1200000</td>\n",
       "      <td>16000000.0</td>\n",
       "      <td>hi</td>\n",
       "      <td>Released</td>\n",
       "      <td>23</td>\n",
       "      <td>18</td>\n",
       "      <td>0</td>\n",
       "      <td>Drama, Thriller</td>\n",
       "      <td>India</td>\n",
       "      <td>0</td>\n",
       "      <td>True</td>\n",
       "    </tr>\n",
       "    <tr>\n",
       "      <th>4</th>\n",
       "      <td>The Possession</td>\n",
       "      <td>The Possession</td>\n",
       "      <td>7.286477</td>\n",
       "      <td>2012-08-30</td>\n",
       "      <td>92.0</td>\n",
       "      <td>A young girl buys an antique box at a yard sal...</td>\n",
       "      <td>14000000</td>\n",
       "      <td>85446075.0</td>\n",
       "      <td>en</td>\n",
       "      <td>Released</td>\n",
       "      <td>0</td>\n",
       "      <td>6</td>\n",
       "      <td>0</td>\n",
       "      <td>Horror, Thriller</td>\n",
       "      <td>Canada, United States of America</td>\n",
       "      <td>0</td>\n",
       "      <td>True</td>\n",
       "    </tr>\n",
       "  </tbody>\n",
       "</table>\n",
       "</div>"
      ],
      "text/plain": [
       "                             original_title  \\\n",
       "0                    Hot Tub Time Machine 2   \n",
       "1  The Princess Diaries 2: Royal Engagement   \n",
       "2                                  Whiplash   \n",
       "3                                   Kahaani   \n",
       "4                            The Possession   \n",
       "\n",
       "                                      title  popularity release_date  \\\n",
       "0                    Hot Tub Time Machine 2    6.575393   2015-02-20   \n",
       "1  The Princess Diaries 2: Royal Engagement    8.248895   2004-08-06   \n",
       "2                                  Whiplash   64.299990   2014-10-10   \n",
       "3                                   Kahaani    3.174936   2012-03-09   \n",
       "4                            The Possession    7.286477   2012-08-30   \n",
       "\n",
       "   duration_min                                        description    budget  \\\n",
       "0          93.0  When Lou's shot in the groin, Nick and Jacob d...  14000000   \n",
       "1         113.0  Now settled in Genovia, Princess Mia faces a n...  40000000   \n",
       "2         105.0  A promising young drummer enrolls at a cut-thr...   3300000   \n",
       "3         122.0  A pregnant woman's search for her missing husb...   1200000   \n",
       "4          92.0  A young girl buys an antique box at a yard sal...  14000000   \n",
       "\n",
       "      revenue original_language    status  number_of_awards_won  \\\n",
       "0  12314651.0                en  Released                     0   \n",
       "1  95149435.0                en  Released                     1   \n",
       "2  13092000.0                en  Released                    97   \n",
       "3  16000000.0                hi  Released                    23   \n",
       "4  85446075.0                en  Released                     0   \n",
       "\n",
       "   number_of_nominations  has_collection                      all_genres  \\\n",
       "0                      2               1                          Comedy   \n",
       "1                      2               1  Comedy, Drama, Family, Romance   \n",
       "2                    145               0                           Drama   \n",
       "3                     18               0                 Drama, Thriller   \n",
       "4                      6               0                Horror, Thriller   \n",
       "\n",
       "                      top_countries  number_of_top_productions  \\\n",
       "0          United States of America                          3   \n",
       "1          United States of America                          1   \n",
       "2          United States of America                          0   \n",
       "3                             India                          0   \n",
       "4  Canada, United States of America                          0   \n",
       "\n",
       "   available_in_english  \n",
       "0                  True  \n",
       "1                  True  \n",
       "2                  True  \n",
       "3                  True  \n",
       "4                  True  "
      ]
     },
     "execution_count": 2,
     "metadata": {},
     "output_type": "execute_result"
    }
   ],
   "source": [
    "df = pd.read_csv(\"tv_movies_popularity.csv\")\n",
    "df.head()"
   ]
  },
  {
   "cell_type": "code",
   "execution_count": 3,
   "metadata": {},
   "outputs": [
    {
     "data": {
      "text/plain": [
       "6864"
      ]
     },
     "execution_count": 3,
     "metadata": {},
     "output_type": "execute_result"
    }
   ],
   "source": [
    "len(df)"
   ]
  },
  {
   "cell_type": "code",
   "execution_count": 4,
   "metadata": {},
   "outputs": [
    {
     "data": {
      "text/plain": [
       "6464"
      ]
     },
     "execution_count": 4,
     "metadata": {},
     "output_type": "execute_result"
    }
   ],
   "source": [
    "df= df.drop_duplicates()# Remove duplicates\n",
    "len(df) # Check new number of rows"
   ]
  },
  {
   "cell_type": "code",
   "execution_count": 5,
   "metadata": {
    "scrolled": true
   },
   "outputs": [
    {
     "data": {
      "text/plain": [
       "revenue                      3847\n",
       "title                           1\n",
       "available_in_english            0\n",
       "popularity                      0\n",
       "release_date                    0\n",
       "duration_min                    0\n",
       "description                     0\n",
       "budget                          0\n",
       "original_language               0\n",
       "number_of_top_productions       0\n",
       "status                          0\n",
       "number_of_awards_won            0\n",
       "number_of_nominations           0\n",
       "has_collection                  0\n",
       "all_genres                      0\n",
       "top_countries                   0\n",
       "original_title                  0\n",
       "dtype: int64"
      ]
     },
     "execution_count": 5,
     "metadata": {},
     "output_type": "execute_result"
    }
   ],
   "source": [
    "df.isnull().sum().sort_values(ascending=False) "
   ]
  },
  {
   "cell_type": "code",
   "execution_count": 6,
   "metadata": {
    "scrolled": true
   },
   "outputs": [
    {
     "data": {
      "text/plain": [
       "title                        1\n",
       "available_in_english         0\n",
       "number_of_top_productions    0\n",
       "top_countries                0\n",
       "all_genres                   0\n",
       "has_collection               0\n",
       "number_of_nominations        0\n",
       "number_of_awards_won         0\n",
       "status                       0\n",
       "original_language            0\n",
       "budget                       0\n",
       "description                  0\n",
       "duration_min                 0\n",
       "release_date                 0\n",
       "popularity                   0\n",
       "original_title               0\n",
       "dtype: int64"
      ]
     },
     "execution_count": 6,
     "metadata": {},
     "output_type": "execute_result"
    }
   ],
   "source": [
    "df.drop(columns=[\"revenue\"],inplace = True)\n",
    "df.isnull().sum().sort_values(ascending=False) "
   ]
  },
  {
   "cell_type": "code",
   "execution_count": 7,
   "metadata": {
    "scrolled": true
   },
   "outputs": [
    {
     "data": {
      "text/plain": [
       "available_in_english         0\n",
       "number_of_top_productions    0\n",
       "top_countries                0\n",
       "all_genres                   0\n",
       "has_collection               0\n",
       "number_of_nominations        0\n",
       "number_of_awards_won         0\n",
       "status                       0\n",
       "original_language            0\n",
       "budget                       0\n",
       "description                  0\n",
       "duration_min                 0\n",
       "release_date                 0\n",
       "popularity                   0\n",
       "title                        0\n",
       "original_title               0\n",
       "dtype: int64"
      ]
     },
     "execution_count": 7,
     "metadata": {},
     "output_type": "execute_result"
    }
   ],
   "source": [
    "df.dropna(subset=['title'],inplace=True)\n",
    "df.isnull().sum().sort_values(ascending=False)"
   ]
  },
  {
   "cell_type": "code",
   "execution_count": 8,
   "metadata": {},
   "outputs": [],
   "source": [
    "data = df"
   ]
  },
  {
   "cell_type": "markdown",
   "metadata": {},
   "source": [
    "### 🧪 Run the following cell to save your results"
   ]
  },
  {
   "cell_type": "code",
   "execution_count": 9,
   "metadata": {
    "ExecuteTime": {
     "end_time": "2021-06-29T17:29:09.754301Z",
     "start_time": "2021-06-29T17:29:09.746171Z"
    }
   },
   "outputs": [],
   "source": [
    "from nbresult import ChallengeResult\n",
    "\n",
    "result = ChallengeResult(\n",
    "    \"data_cleaning\",\n",
    "    columns=data.columns,\n",
    "    cleaning=sum(data.isnull().sum()),\n",
    "    shape=data.shape)\n",
    "result.write()"
   ]
  },
  {
   "cell_type": "markdown",
   "metadata": {},
   "source": [
    "## Baseline model"
   ]
  },
  {
   "cell_type": "markdown",
   "metadata": {},
   "source": [
    "### The metric"
   ]
  },
  {
   "cell_type": "markdown",
   "metadata": {},
   "source": [
    "📝 **We want to predict `popularity`: Start by plotting a histogram of the target to visualize it**"
   ]
  },
  {
   "cell_type": "code",
   "execution_count": 10,
   "metadata": {
    "scrolled": true
   },
   "outputs": [
    {
     "data": {
      "text/plain": [
       "<AxesSubplot:ylabel='Frequency'>"
      ]
     },
     "execution_count": 10,
     "metadata": {},
     "output_type": "execute_result"
    },
    {
     "data": {
      "image/png": "[encoded data removed]",
      "text/plain": [
       "<Figure size 432x288 with 1 Axes>"
      ]
     },
     "metadata": {
      "needs_background": "light"
     },
     "output_type": "display_data"
    }
   ],
   "source": [
    "df[\"popularity\"].plot.hist(bins=200) # Graph histograms of dataset"
   ]
  },
  {
   "cell_type": "code",
   "execution_count": 11,
   "metadata": {},
   "outputs": [
    {
     "name": "stderr",
     "output_type": "stream",
     "text": [
      "/home/francois/.pyenv/versions/3.8.6/envs/lewagon/lib/python3.8/site-packages/seaborn/distributions.py:2557: FutureWarning: `distplot` is a deprecated function and will be removed in a future version. Please adapt your code to use either `displot` (a figure-level function with similar flexibility) or `histplot` (an axes-level function for histograms).\n",
      "  warnings.warn(msg, FutureWarning)\n"
     ]
    },
    {
     "data": {
      "text/plain": [
       "<AxesSubplot:xlabel='popularity', ylabel='Density'>"
      ]
     },
     "execution_count": 11,
     "metadata": {},
     "output_type": "execute_result"
    },
    {
     "data": {
      "image/png": "[encoded data removed]",
      "text/plain": [
       "<Figure size 432x288 with 1 Axes>"
      ]
     },
     "metadata": {
      "needs_background": "light"
     },
     "output_type": "display_data"
    }
   ],
   "source": [
    "plt.figure()\n",
    "sns.distplot(data[\"popularity\"],label = \"popularity\")"
   ]
  },
  {
   "cell_type": "markdown",
   "metadata": {},
   "source": [
    "📝 **Which sklearn's scoring [metric](https://scikit-learn.org/stable/modules/model_evaluation.html) should we use if we want it to:**\n",
    "\n",
    "- Be better when greater (i.e. metric_good_model > metric_bad_model)\n",
    "- Penalize **more** an error between 10 and 20 compared with an error between 110 and 120\n",
    "- Said otherwise, what matter should be the **relative error ratio**, more than the absolute error difference\n",
    "\n",
    "Hint: the histogram plotted above should give you some intuition about it\n",
    "\n",
    "👉 Store its exact [sklearn scoring name](https://scikit-learn.org/stable/modules/model_evaluation.html) as `string` in the variable `scoring` below.\n",
    "\n",
    "🚨 You must use this metric for the rest of the challenge"
   ]
  },
  {
   "cell_type": "code",
   "execution_count": 12,
   "metadata": {
    "ExecuteTime": {
     "end_time": "2021-06-29T17:29:13.047468Z",
     "start_time": "2021-06-29T17:29:13.045265Z"
    },
    "slideshow": {
     "slide_type": "notes"
    },
    "tags": [
     "challengify"
    ]
   },
   "outputs": [],
   "source": [
    "scoring = \"sklearn.metrics.explained_variance_score\""
   ]
  },
  {
   "cell_type": "markdown",
   "metadata": {},
   "source": [
    "<details>\n",
    "    <summary>💡 Hint</summary>\n",
    "It is around here!\n",
    "<img src=\"scores.jpg\" width=200 height=400 />\n",
    "</details>"
   ]
  },
  {
   "cell_type": "markdown",
   "metadata": {},
   "source": [
    "### X,y"
   ]
  },
  {
   "cell_type": "markdown",
   "metadata": {},
   "source": [
    "**📝 Define `X` as the features Dataframe (keep all features) and `y` as the target Series.**"
   ]
  },
  {
   "cell_type": "code",
   "execution_count": 13,
   "metadata": {
    "ExecuteTime": {
     "end_time": "2021-06-29T17:29:13.054580Z",
     "start_time": "2021-06-29T17:29:13.049865Z"
    },
    "tags": [
     "challengify"
    ]
   },
   "outputs": [],
   "source": [
    "X = data.drop(columns = \"popularity\")\n",
    "y = data[\"popularity\"]\n"
   ]
  },
  {
   "cell_type": "markdown",
   "metadata": {},
   "source": [
    "### Basic pipeline"
   ]
  },
  {
   "cell_type": "markdown",
   "metadata": {},
   "source": [
    "📝 **Check unique values per features**"
   ]
  },
  {
   "cell_type": "code",
   "execution_count": 14,
   "metadata": {
    "ExecuteTime": {
     "end_time": "2021-06-29T17:29:13.074836Z",
     "start_time": "2021-06-29T17:29:13.062527Z"
    },
    "tags": [
     "challengify"
    ]
   },
   "outputs": [
    {
     "data": {
      "text/plain": [
       "original_title               6350\n",
       "title                        6337\n",
       "release_date                 4320\n",
       "duration_min                  152\n",
       "description                  6449\n",
       "budget                        636\n",
       "original_language              42\n",
       "status                          3\n",
       "number_of_awards_won          124\n",
       "number_of_nominations         180\n",
       "has_collection                  2\n",
       "all_genres                    745\n",
       "top_countries                 320\n",
       "number_of_top_productions       5\n",
       "available_in_english            2\n",
       "dtype: int64"
      ]
     },
     "execution_count": 14,
     "metadata": {},
     "output_type": "execute_result"
    }
   ],
   "source": [
    "X.nunique()"
   ]
  },
  {
   "cell_type": "markdown",
   "metadata": {},
   "source": [
    "In this baseline, let's forget about the columns below that are difficult to process"
   ]
  },
  {
   "cell_type": "code",
   "execution_count": 15,
   "metadata": {
    "ExecuteTime": {
     "end_time": "2021-06-29T17:29:13.102327Z",
     "start_time": "2021-06-29T17:29:13.099066Z"
    }
   },
   "outputs": [],
   "source": [
    "text = ['description', 'original_title', 'title']\n",
    "dates = ['release_date'] "
   ]
  },
  {
   "cell_type": "markdown",
   "metadata": {},
   "source": [
    "We will simply scale the numerical features and one-hot-encode the categorical ones remaining\n",
    "\n",
    "📝 **Prepare 2 `list`s of features names as `str`**:\n",
    "- `numerical` which contains **only** numerical features\n",
    "- `categorical` which contains **only** categorical features (exept text and dates above)"
   ]
  },
  {
   "cell_type": "code",
   "execution_count": 16,
   "metadata": {},
   "outputs": [
    {
     "name": "stdout",
     "output_type": "stream",
     "text": [
      "<class 'pandas.core.frame.DataFrame'>\n",
      "Int64Index: 6463 entries, 0 to 6463\n",
      "Data columns (total 15 columns):\n",
      " #   Column                     Non-Null Count  Dtype  \n",
      "---  ------                     --------------  -----  \n",
      " 0   original_title             6463 non-null   object \n",
      " 1   title                      6463 non-null   object \n",
      " 2   release_date               6463 non-null   object \n",
      " 3   duration_min               6463 non-null   float64\n",
      " 4   description                6463 non-null   object \n",
      " 5   budget                     6463 non-null   int64  \n",
      " 6   original_language          6463 non-null   object \n",
      " 7   status                     6463 non-null   object \n",
      " 8   number_of_awards_won       6463 non-null   int64  \n",
      " 9   number_of_nominations      6463 non-null   int64  \n",
      " 10  has_collection             6463 non-null   int64  \n",
      " 11  all_genres                 6463 non-null   object \n",
      " 12  top_countries              6463 non-null   object \n",
      " 13  number_of_top_productions  6463 non-null   int64  \n",
      " 14  available_in_english       6463 non-null   bool   \n",
      "dtypes: bool(1), float64(1), int64(5), object(8)\n",
      "memory usage: 763.7+ KB\n"
     ]
    }
   ],
   "source": [
    "X.info()"
   ]
  },
  {
   "cell_type": "code",
   "execution_count": 17,
   "metadata": {
    "ExecuteTime": {
     "end_time": "2021-06-29T17:29:13.107916Z",
     "start_time": "2021-06-29T17:29:13.104876Z"
    },
    "tags": [
     "challengify"
    ]
   },
   "outputs": [],
   "source": [
    "numerical = [\"duration_min\",\"budget\",\"number_of_awards_won\",\"number_of_nominations\"]\n",
    "categorical = [\"status\",\"has_collection\",\"all_genres\",\"top_countries\",\"number_of_top_productions\",\"available_in_english\"]\n",
    "boolean = [\"available_in_english\"]"
   ]
  },
  {
   "cell_type": "markdown",
   "metadata": {},
   "source": [
    "### Pipelining\n",
    "\n",
    "You are going to build a basic pipeline made of a basic preprocessing and a trees-based model of your choice."
   ]
  },
  {
   "cell_type": "markdown",
   "metadata": {},
   "source": [
    "#### Preprocessing pipeline\n",
    "\n",
    "**📝 Create a basic preprocessing pipeline for the 2 types of features above:**\n",
    "- It should scale the `numerical` features\n",
    "- one-hot-encode the `categorical` and `boolean` features\n",
    "- drop the others\n",
    "- Store your pipeline in a `basic_preprocessing` variable"
   ]
  },
  {
   "cell_type": "code",
   "execution_count": 18,
   "metadata": {
    "ExecuteTime": {
     "end_time": "2021-06-29T17:29:13.475427Z",
     "start_time": "2021-06-29T17:29:13.109926Z"
    }
   },
   "outputs": [],
   "source": [
    "# Execute this cell to enable a nice display for your pipelines\n",
    "from sklearn import set_config\n",
    "set_config()"
   ]
  },
  {
   "cell_type": "code",
   "execution_count": 19,
   "metadata": {
    "ExecuteTime": {
     "end_time": "2021-06-29T17:29:13.497003Z",
     "start_time": "2021-06-29T17:29:13.477748Z"
    },
    "tags": [
     "challengify"
    ]
   },
   "outputs": [],
   "source": [
    "from sklearn.preprocessing import OneHotEncoder\n",
    "from sklearn.compose import ColumnTransformer\n",
    "from sklearn.pipeline import Pipeline\n",
    "from sklearn.preprocessing import StandardScaler\n",
    "\n",
    "# Scale for numerical variables:\n",
    "num_transformer= StandardScaler()\n",
    "\n",
    "# Encode categorical variables\n",
    "cat_transformer= OneHotEncoder(handle_unknown='ignore',sparse = False)\n",
    "\n",
    "# Paralellize \"num_transformer\" and \"One hot encoder\"\n",
    "basic_preprocessing= ColumnTransformer([\n",
    "    ('num_transformer', num_transformer, numerical),\n",
    "    ('cat_transformer', cat_transformer, categorical)],remainder=\"drop\")"
   ]
  },
  {
   "cell_type": "markdown",
   "metadata": {},
   "source": [
    "**📝 Encode the features and store the result in the variable `X_basic_preprocessing`.**"
   ]
  },
  {
   "cell_type": "code",
   "execution_count": 20,
   "metadata": {
    "ExecuteTime": {
     "end_time": "2021-06-29T17:29:13.523938Z",
     "start_time": "2021-06-29T17:29:13.499042Z"
    },
    "tags": [
     "challengify"
    ]
   },
   "outputs": [],
   "source": [
    "X_basic_preprocessing = basic_preprocessing.fit_transform(X)"
   ]
  },
  {
   "cell_type": "markdown",
   "metadata": {},
   "source": [
    "**❓ How many features has been generated by the preprocessing? What do you think about this number?**"
   ]
  },
  {
   "cell_type": "code",
   "execution_count": 21,
   "metadata": {},
   "outputs": [
    {
     "data": {
      "text/plain": [
       "(6463, 1081)"
      ]
     },
     "execution_count": 21,
     "metadata": {},
     "output_type": "execute_result"
    }
   ],
   "source": [
    "X_basic_preprocessing.shape"
   ]
  },
  {
   "cell_type": "markdown",
   "metadata": {
    "tags": [
     "challengify"
    ]
   },
   "source": [
    "> we got 6463 features compared to our 15 original features. This is due to the One Hot Encoder which create lots of features. We can reduce it by choosing in parameter sparse = True "
   ]
  },
  {
   "cell_type": "markdown",
   "metadata": {},
   "source": [
    "#### Modeling pipeline\n",
    "\n",
    "Let's add a model to our pipe. With so many features one-hot-encoded, we **need a model which can act as a feature selector**\n",
    "\n",
    "👉 A linear model regularized with L1 penalty is a good starting point.\n",
    "\n",
    "\n",
    "**📝 Create a `basic_pipeline` which encapsulate the `basic_preprocessing` pipeline + a linear model with a L1 penalty**\n",
    "\n",
    "- store the resulting pipeline as `basic_pipeline`\n",
    "- don't fine-tune it\n",
    "\n",
    "\n",
    "<details>\n",
    "    <summary>Hints</summary>\n",
    "\n",
    "Choose your model from the list [here](https://scikit-learn.org/stable/modules/classes.html#module-sklearn.linear_model)\n",
    "\n",
    "</details>"
   ]
  },
  {
   "cell_type": "code",
   "execution_count": 22,
   "metadata": {
    "ExecuteTime": {
     "end_time": "2021-06-29T17:29:13.614429Z",
     "start_time": "2021-06-29T17:29:13.609607Z"
    },
    "tags": [
     "challengify"
    ]
   },
   "outputs": [
    {
     "data": {
      "text/plain": [
       "{'memory': None,\n",
       " 'steps': [('basic_preprocessing',\n",
       "   ColumnTransformer(transformers=[('num_transformer', StandardScaler(),\n",
       "                                    ['duration_min', 'budget',\n",
       "                                     'number_of_awards_won',\n",
       "                                     'number_of_nominations']),\n",
       "                                   ('cat_transformer',\n",
       "                                    OneHotEncoder(handle_unknown='ignore',\n",
       "                                                  sparse=False),\n",
       "                                    ['status', 'has_collection', 'all_genres',\n",
       "                                     'top_countries', 'number_of_top_productions',\n",
       "                                     'available_in_english'])])),\n",
       "  ('model', Lasso(alpha=0.2))],\n",
       " 'verbose': False,\n",
       " 'basic_preprocessing': ColumnTransformer(transformers=[('num_transformer', StandardScaler(),\n",
       "                                  ['duration_min', 'budget',\n",
       "                                   'number_of_awards_won',\n",
       "                                   'number_of_nominations']),\n",
       "                                 ('cat_transformer',\n",
       "                                  OneHotEncoder(handle_unknown='ignore',\n",
       "                                                sparse=False),\n",
       "                                  ['status', 'has_collection', 'all_genres',\n",
       "                                   'top_countries', 'number_of_top_productions',\n",
       "                                   'available_in_english'])]),\n",
       " 'model': Lasso(alpha=0.2),\n",
       " 'basic_preprocessing__n_jobs': None,\n",
       " 'basic_preprocessing__remainder': 'drop',\n",
       " 'basic_preprocessing__sparse_threshold': 0.3,\n",
       " 'basic_preprocessing__transformer_weights': None,\n",
       " 'basic_preprocessing__transformers': [('num_transformer',\n",
       "   StandardScaler(),\n",
       "   ['duration_min',\n",
       "    'budget',\n",
       "    'number_of_awards_won',\n",
       "    'number_of_nominations']),\n",
       "  ('cat_transformer',\n",
       "   OneHotEncoder(handle_unknown='ignore', sparse=False),\n",
       "   ['status',\n",
       "    'has_collection',\n",
       "    'all_genres',\n",
       "    'top_countries',\n",
       "    'number_of_top_productions',\n",
       "    'available_in_english'])],\n",
       " 'basic_preprocessing__verbose': False,\n",
       " 'basic_preprocessing__num_transformer': StandardScaler(),\n",
       " 'basic_preprocessing__cat_transformer': OneHotEncoder(handle_unknown='ignore', sparse=False),\n",
       " 'basic_preprocessing__num_transformer__copy': True,\n",
       " 'basic_preprocessing__num_transformer__with_mean': True,\n",
       " 'basic_preprocessing__num_transformer__with_std': True,\n",
       " 'basic_preprocessing__cat_transformer__categories': 'auto',\n",
       " 'basic_preprocessing__cat_transformer__drop': None,\n",
       " 'basic_preprocessing__cat_transformer__dtype': numpy.float64,\n",
       " 'basic_preprocessing__cat_transformer__handle_unknown': 'ignore',\n",
       " 'basic_preprocessing__cat_transformer__sparse': False,\n",
       " 'model__alpha': 0.2,\n",
       " 'model__copy_X': True,\n",
       " 'model__fit_intercept': True,\n",
       " 'model__max_iter': 1000,\n",
       " 'model__normalize': False,\n",
       " 'model__positive': False,\n",
       " 'model__precompute': False,\n",
       " 'model__random_state': None,\n",
       " 'model__selection': 'cyclic',\n",
       " 'model__tol': 0.0001,\n",
       " 'model__warm_start': False}"
      ]
     },
     "execution_count": 22,
     "metadata": {},
     "output_type": "execute_result"
    }
   ],
   "source": [
    "from sklearn.linear_model import Lasso\n",
    "\n",
    "# Instanciate the model\n",
    "model = Lasso(alpha=0.2)\n",
    "\n",
    "# Final pipe\n",
    "basic_pipeline = Pipeline([\n",
    "('basic_preprocessing', basic_preprocessing),\n",
    "('model', model)])\n",
    "\n",
    "basic_pipeline.get_params()"
   ]
  },
  {
   "cell_type": "markdown",
   "metadata": {},
   "source": [
    "### Cross-validated baseline\n",
    "\n",
    "**📝 Perform a cross-validated evaluation of your baseline model using the metric you defined above. Store the results of this evaluation as an `array` of floating scores in the `basic_scores` variable.**"
   ]
  },
  {
   "cell_type": "code",
   "execution_count": 23,
   "metadata": {
    "ExecuteTime": {
     "end_time": "2021-06-29T17:29:13.834847Z",
     "start_time": "2021-06-29T17:29:13.634994Z"
    },
    "scrolled": false,
    "tags": [
     "challengify"
    ]
   },
   "outputs": [
    {
     "data": {
      "text/plain": [
       "array([0.12179199, 0.18100911, 0.17709562, 0.08999073, 0.17712581,\n",
       "       0.21781488, 0.15874777, 0.22619758, 0.06856867, 0.18825191])"
      ]
     },
     "execution_count": 23,
     "metadata": {},
     "output_type": "execute_result"
    }
   ],
   "source": [
    "from sklearn.model_selection import cross_val_score\n",
    "\n",
    "# Cross validate the final_pipe\n",
    "result = cross_val_score(basic_pipeline, X, y, cv=10)\n",
    "result\n"
   ]
  },
  {
   "cell_type": "code",
   "execution_count": 24,
   "metadata": {},
   "outputs": [],
   "source": [
    "basic_scores = result"
   ]
  },
  {
   "cell_type": "markdown",
   "metadata": {},
   "source": [
    "### 🧪 Save your results\n",
    "\n",
    "Run the following cell to save your results"
   ]
  },
  {
   "cell_type": "code",
   "execution_count": 25,
   "metadata": {
    "ExecuteTime": {
     "end_time": "2021-06-29T17:29:13.848670Z",
     "start_time": "2021-06-29T17:29:13.844198Z"
    }
   },
   "outputs": [],
   "source": [
    "ChallengeResult(\n",
    "    'baseline',\n",
    "    metric=scoring,\n",
    "    features=[categorical,numerical],\n",
    "    preproc=basic_preprocessing,\n",
    "    preproc_shape=X_basic_preprocessing.shape,\n",
    "    pipe=basic_pipeline,\n",
    "    scores=basic_scores\n",
    ").write()"
   ]
  },
  {
   "cell_type": "markdown",
   "metadata": {},
   "source": [
    "## Feature engineering"
   ]
  },
  {
   "cell_type": "markdown",
   "metadata": {},
   "source": [
    "### Time Features\n",
    "\n",
    "\n",
    "👉 Let's try to improve performance using the feature `release_date`, and especially its `month` and `year`.\n",
    "\n",
    "ℹ️ If you want to skip this section, you can move directly to the next one: _Advanced categorical features_."
   ]
  },
  {
   "cell_type": "markdown",
   "metadata": {},
   "source": [
    "**📝 Complete the custom transformer `TimeFeaturesExtractor` below**\n",
    "\n",
    "Running\n",
    "```python\n",
    "TimeFeaturesExtractor().fit_transform(X[['release_date']])\n",
    "``` \n",
    "should return something like\n",
    "\n",
    "|    |   month |   year |\n",
    "|---:|--------:|-------:|\n",
    "|  0 |       2 |   2015 |\n",
    "|  1 |       8 |   2004 |\n",
    "|  2 |      10 |   2014 |\n",
    "|  3 |       3 |   2012 |\n",
    "|  4 |       8 |   2012 |\n"
   ]
  },
  {
   "cell_type": "code",
   "execution_count": 26,
   "metadata": {
    "collapsed": true
   },
   "outputs": [
    {
     "data": {
      "text/html": [
       "<div>\n",
       "<style scoped>\n",
       "    .dataframe tbody tr th:only-of-type {\n",
       "        vertical-align: middle;\n",
       "    }\n",
       "\n",
       "    .dataframe tbody tr th {\n",
       "        vertical-align: top;\n",
       "    }\n",
       "\n",
       "    .dataframe thead th {\n",
       "        text-align: right;\n",
       "    }\n",
       "</style>\n",
       "<table border=\"1\" class=\"dataframe\">\n",
       "  <thead>\n",
       "    <tr style=\"text-align: right;\">\n",
       "      <th></th>\n",
       "      <th>release_date</th>\n",
       "    </tr>\n",
       "  </thead>\n",
       "  <tbody>\n",
       "    <tr>\n",
       "      <th>0</th>\n",
       "      <td>2015-02-20</td>\n",
       "    </tr>\n",
       "    <tr>\n",
       "      <th>1</th>\n",
       "      <td>2004-08-06</td>\n",
       "    </tr>\n",
       "    <tr>\n",
       "      <th>2</th>\n",
       "      <td>2014-10-10</td>\n",
       "    </tr>\n",
       "    <tr>\n",
       "      <th>3</th>\n",
       "      <td>2012-03-09</td>\n",
       "    </tr>\n",
       "    <tr>\n",
       "      <th>4</th>\n",
       "      <td>2012-08-30</td>\n",
       "    </tr>\n",
       "    <tr>\n",
       "      <th>...</th>\n",
       "      <td>...</td>\n",
       "    </tr>\n",
       "    <tr>\n",
       "      <th>6459</th>\n",
       "      <td>2001-08-03</td>\n",
       "    </tr>\n",
       "    <tr>\n",
       "      <th>6460</th>\n",
       "      <td>2004-08-20</td>\n",
       "    </tr>\n",
       "    <tr>\n",
       "      <th>6461</th>\n",
       "      <td>1982-12-08</td>\n",
       "    </tr>\n",
       "    <tr>\n",
       "      <th>6462</th>\n",
       "      <td>2015-02-04</td>\n",
       "    </tr>\n",
       "    <tr>\n",
       "      <th>6463</th>\n",
       "      <td>1962-09-20</td>\n",
       "    </tr>\n",
       "  </tbody>\n",
       "</table>\n",
       "<p>6463 rows × 1 columns</p>\n",
       "</div>"
      ],
      "text/plain": [
       "     release_date\n",
       "0      2015-02-20\n",
       "1      2004-08-06\n",
       "2      2014-10-10\n",
       "3      2012-03-09\n",
       "4      2012-08-30\n",
       "...           ...\n",
       "6459   2001-08-03\n",
       "6460   2004-08-20\n",
       "6461   1982-12-08\n",
       "6462   2015-02-04\n",
       "6463   1962-09-20\n",
       "\n",
       "[6463 rows x 1 columns]"
      ]
     },
     "execution_count": 26,
     "metadata": {},
     "output_type": "execute_result"
    }
   ],
   "source": [
    "X[['release_date']]"
   ]
  },
  {
   "cell_type": "code",
   "execution_count": 53,
   "metadata": {},
   "outputs": [
    {
     "data": {
      "text/plain": [
       "0       2015-02-20\n",
       "1       2004-08-06\n",
       "2       2014-10-10\n",
       "3       2012-03-09\n",
       "4       2012-08-30\n",
       "           ...    \n",
       "6459    2001-08-03\n",
       "6460    2004-08-20\n",
       "6461    1982-12-08\n",
       "6462    2015-02-04\n",
       "6463    1962-09-20\n",
       "Name: release_date, Length: 6463, dtype: object"
      ]
     },
     "execution_count": 53,
     "metadata": {},
     "output_type": "execute_result"
    }
   ],
   "source": [
    "A = X[['release_date']]\n",
    "A['release_date']"
   ]
  },
  {
   "cell_type": "code",
   "execution_count": 41,
   "metadata": {
    "scrolled": true
   },
   "outputs": [
    {
     "data": {
      "text/plain": [
       "0      2015-02-20\n",
       "1      2004-08-06\n",
       "2      2014-10-10\n",
       "3      2012-03-09\n",
       "4      2012-08-30\n",
       "          ...    \n",
       "6459   2001-08-03\n",
       "6460   2004-08-20\n",
       "6461   1982-12-08\n",
       "6462   2015-02-04\n",
       "6463   1962-09-20\n",
       "Name: release_date, Length: 6463, dtype: datetime64[ns]"
      ]
     },
     "execution_count": 41,
     "metadata": {},
     "output_type": "execute_result"
    }
   ],
   "source": [
    "B = X['release_date']\n",
    "B = pd.to_datetime(B)\n",
    "B"
   ]
  },
  {
   "cell_type": "code",
   "execution_count": 44,
   "metadata": {
    "collapsed": true
   },
   "outputs": [
    {
     "data": {
      "text/html": [
       "<div>\n",
       "<style scoped>\n",
       "    .dataframe tbody tr th:only-of-type {\n",
       "        vertical-align: middle;\n",
       "    }\n",
       "\n",
       "    .dataframe tbody tr th {\n",
       "        vertical-align: top;\n",
       "    }\n",
       "\n",
       "    .dataframe thead th {\n",
       "        text-align: right;\n",
       "    }\n",
       "</style>\n",
       "<table border=\"1\" class=\"dataframe\">\n",
       "  <thead>\n",
       "    <tr style=\"text-align: right;\">\n",
       "      <th></th>\n",
       "      <th>release_date</th>\n",
       "    </tr>\n",
       "  </thead>\n",
       "  <tbody>\n",
       "    <tr>\n",
       "      <th>0</th>\n",
       "      <td>2015-02-20</td>\n",
       "    </tr>\n",
       "    <tr>\n",
       "      <th>1</th>\n",
       "      <td>2004-08-06</td>\n",
       "    </tr>\n",
       "    <tr>\n",
       "      <th>2</th>\n",
       "      <td>2014-10-10</td>\n",
       "    </tr>\n",
       "    <tr>\n",
       "      <th>3</th>\n",
       "      <td>2012-03-09</td>\n",
       "    </tr>\n",
       "    <tr>\n",
       "      <th>4</th>\n",
       "      <td>2012-08-30</td>\n",
       "    </tr>\n",
       "    <tr>\n",
       "      <th>...</th>\n",
       "      <td>...</td>\n",
       "    </tr>\n",
       "    <tr>\n",
       "      <th>6459</th>\n",
       "      <td>2001-08-03</td>\n",
       "    </tr>\n",
       "    <tr>\n",
       "      <th>6460</th>\n",
       "      <td>2004-08-20</td>\n",
       "    </tr>\n",
       "    <tr>\n",
       "      <th>6461</th>\n",
       "      <td>1982-12-08</td>\n",
       "    </tr>\n",
       "    <tr>\n",
       "      <th>6462</th>\n",
       "      <td>2015-02-04</td>\n",
       "    </tr>\n",
       "    <tr>\n",
       "      <th>6463</th>\n",
       "      <td>1962-09-20</td>\n",
       "    </tr>\n",
       "  </tbody>\n",
       "</table>\n",
       "<p>6463 rows × 1 columns</p>\n",
       "</div>"
      ],
      "text/plain": [
       "     release_date\n",
       "0      2015-02-20\n",
       "1      2004-08-06\n",
       "2      2014-10-10\n",
       "3      2012-03-09\n",
       "4      2012-08-30\n",
       "...           ...\n",
       "6459   2001-08-03\n",
       "6460   2004-08-20\n",
       "6461   1982-12-08\n",
       "6462   2015-02-04\n",
       "6463   1962-09-20\n",
       "\n",
       "[6463 rows x 1 columns]"
      ]
     },
     "execution_count": 44,
     "metadata": {},
     "output_type": "execute_result"
    }
   ],
   "source": [
    "B= pd.DataFrame(B)\n"
   ]
  },
  {
   "cell_type": "code",
   "execution_count": 45,
   "metadata": {
    "collapsed": true
   },
   "outputs": [
    {
     "data": {
      "text/html": [
       "<div>\n",
       "<style scoped>\n",
       "    .dataframe tbody tr th:only-of-type {\n",
       "        vertical-align: middle;\n",
       "    }\n",
       "\n",
       "    .dataframe tbody tr th {\n",
       "        vertical-align: top;\n",
       "    }\n",
       "\n",
       "    .dataframe thead th {\n",
       "        text-align: right;\n",
       "    }\n",
       "</style>\n",
       "<table border=\"1\" class=\"dataframe\">\n",
       "  <thead>\n",
       "    <tr style=\"text-align: right;\">\n",
       "      <th></th>\n",
       "      <th>release_date</th>\n",
       "      <th>Month</th>\n",
       "    </tr>\n",
       "  </thead>\n",
       "  <tbody>\n",
       "    <tr>\n",
       "      <th>0</th>\n",
       "      <td>2015-02-20</td>\n",
       "      <td>2</td>\n",
       "    </tr>\n",
       "    <tr>\n",
       "      <th>1</th>\n",
       "      <td>2004-08-06</td>\n",
       "      <td>8</td>\n",
       "    </tr>\n",
       "    <tr>\n",
       "      <th>2</th>\n",
       "      <td>2014-10-10</td>\n",
       "      <td>10</td>\n",
       "    </tr>\n",
       "    <tr>\n",
       "      <th>3</th>\n",
       "      <td>2012-03-09</td>\n",
       "      <td>3</td>\n",
       "    </tr>\n",
       "    <tr>\n",
       "      <th>4</th>\n",
       "      <td>2012-08-30</td>\n",
       "      <td>8</td>\n",
       "    </tr>\n",
       "    <tr>\n",
       "      <th>...</th>\n",
       "      <td>...</td>\n",
       "      <td>...</td>\n",
       "    </tr>\n",
       "    <tr>\n",
       "      <th>6459</th>\n",
       "      <td>2001-08-03</td>\n",
       "      <td>8</td>\n",
       "    </tr>\n",
       "    <tr>\n",
       "      <th>6460</th>\n",
       "      <td>2004-08-20</td>\n",
       "      <td>8</td>\n",
       "    </tr>\n",
       "    <tr>\n",
       "      <th>6461</th>\n",
       "      <td>1982-12-08</td>\n",
       "      <td>12</td>\n",
       "    </tr>\n",
       "    <tr>\n",
       "      <th>6462</th>\n",
       "      <td>2015-02-04</td>\n",
       "      <td>2</td>\n",
       "    </tr>\n",
       "    <tr>\n",
       "      <th>6463</th>\n",
       "      <td>1962-09-20</td>\n",
       "      <td>9</td>\n",
       "    </tr>\n",
       "  </tbody>\n",
       "</table>\n",
       "<p>6463 rows × 2 columns</p>\n",
       "</div>"
      ],
      "text/plain": [
       "     release_date  Month\n",
       "0      2015-02-20      2\n",
       "1      2004-08-06      8\n",
       "2      2014-10-10     10\n",
       "3      2012-03-09      3\n",
       "4      2012-08-30      8\n",
       "...           ...    ...\n",
       "6459   2001-08-03      8\n",
       "6460   2004-08-20      8\n",
       "6461   1982-12-08     12\n",
       "6462   2015-02-04      2\n",
       "6463   1962-09-20      9\n",
       "\n",
       "[6463 rows x 2 columns]"
      ]
     },
     "execution_count": 45,
     "metadata": {},
     "output_type": "execute_result"
    }
   ],
   "source": [
    "B['Month'] = B['release_date'].dt.month\n",
    "B[]"
   ]
  },
  {
   "cell_type": "code",
   "execution_count": 46,
   "metadata": {},
   "outputs": [
    {
     "data": {
      "text/html": [
       "<div>\n",
       "<style scoped>\n",
       "    .dataframe tbody tr th:only-of-type {\n",
       "        vertical-align: middle;\n",
       "    }\n",
       "\n",
       "    .dataframe tbody tr th {\n",
       "        vertical-align: top;\n",
       "    }\n",
       "\n",
       "    .dataframe thead th {\n",
       "        text-align: right;\n",
       "    }\n",
       "</style>\n",
       "<table border=\"1\" class=\"dataframe\">\n",
       "  <thead>\n",
       "    <tr style=\"text-align: right;\">\n",
       "      <th></th>\n",
       "      <th>release_date</th>\n",
       "      <th>Month</th>\n",
       "      <th>year</th>\n",
       "    </tr>\n",
       "  </thead>\n",
       "  <tbody>\n",
       "    <tr>\n",
       "      <th>0</th>\n",
       "      <td>2015-02-20</td>\n",
       "      <td>2</td>\n",
       "      <td>2015</td>\n",
       "    </tr>\n",
       "    <tr>\n",
       "      <th>1</th>\n",
       "      <td>2004-08-06</td>\n",
       "      <td>8</td>\n",
       "      <td>2004</td>\n",
       "    </tr>\n",
       "    <tr>\n",
       "      <th>2</th>\n",
       "      <td>2014-10-10</td>\n",
       "      <td>10</td>\n",
       "      <td>2014</td>\n",
       "    </tr>\n",
       "    <tr>\n",
       "      <th>3</th>\n",
       "      <td>2012-03-09</td>\n",
       "      <td>3</td>\n",
       "      <td>2012</td>\n",
       "    </tr>\n",
       "    <tr>\n",
       "      <th>4</th>\n",
       "      <td>2012-08-30</td>\n",
       "      <td>8</td>\n",
       "      <td>2012</td>\n",
       "    </tr>\n",
       "    <tr>\n",
       "      <th>...</th>\n",
       "      <td>...</td>\n",
       "      <td>...</td>\n",
       "      <td>...</td>\n",
       "    </tr>\n",
       "    <tr>\n",
       "      <th>6459</th>\n",
       "      <td>2001-08-03</td>\n",
       "      <td>8</td>\n",
       "      <td>2001</td>\n",
       "    </tr>\n",
       "    <tr>\n",
       "      <th>6460</th>\n",
       "      <td>2004-08-20</td>\n",
       "      <td>8</td>\n",
       "      <td>2004</td>\n",
       "    </tr>\n",
       "    <tr>\n",
       "      <th>6461</th>\n",
       "      <td>1982-12-08</td>\n",
       "      <td>12</td>\n",
       "      <td>1982</td>\n",
       "    </tr>\n",
       "    <tr>\n",
       "      <th>6462</th>\n",
       "      <td>2015-02-04</td>\n",
       "      <td>2</td>\n",
       "      <td>2015</td>\n",
       "    </tr>\n",
       "    <tr>\n",
       "      <th>6463</th>\n",
       "      <td>1962-09-20</td>\n",
       "      <td>9</td>\n",
       "      <td>1962</td>\n",
       "    </tr>\n",
       "  </tbody>\n",
       "</table>\n",
       "<p>6463 rows × 3 columns</p>\n",
       "</div>"
      ],
      "text/plain": [
       "     release_date  Month  year\n",
       "0      2015-02-20      2  2015\n",
       "1      2004-08-06      8  2004\n",
       "2      2014-10-10     10  2014\n",
       "3      2012-03-09      3  2012\n",
       "4      2012-08-30      8  2012\n",
       "...           ...    ...   ...\n",
       "6459   2001-08-03      8  2001\n",
       "6460   2004-08-20      8  2004\n",
       "6461   1982-12-08     12  1982\n",
       "6462   2015-02-04      2  2015\n",
       "6463   1962-09-20      9  1962\n",
       "\n",
       "[6463 rows x 3 columns]"
      ]
     },
     "execution_count": 46,
     "metadata": {},
     "output_type": "execute_result"
    }
   ],
   "source": [
    "B['year'] =B['release_date'].dt.year\n",
    "B"
   ]
  },
  {
   "cell_type": "code",
   "execution_count": 51,
   "metadata": {
    "ExecuteTime": {
     "end_time": "2021-06-29T17:29:13.859554Z",
     "start_time": "2021-06-29T17:29:13.855428Z"
    }
   },
   "outputs": [],
   "source": [
    "from sklearn.base import BaseEstimator, TransformerMixin\n",
    "\n",
    "class TimeFeaturesExtractor(BaseEstimator, TransformerMixin):\n",
    "    \"\"\"Extract the 2 time features from a date\"\"\"\n",
    "    \n",
    "    def fit(self, X, y=None):\n",
    "        return self\n",
    "    \n",
    "    def transform(self, X, y=None):\n",
    "        \"\"\"\n",
    "        Params:\n",
    "        X: DataFrame\n",
    "        y: Series\n",
    "        \n",
    "        Returns a DataFrame with 2 columns containing the time features as integers extracted from the release_date.\n",
    "        \"\"\"\n",
    "        A= X['release_date']\n",
    "        A = pd.to_datetime(A)\n",
    "        A = pd.DataFrame(A)\n",
    "        A['Month'] = y['release_date'].dt.month\n",
    "        A['year'] =y['release_date'].dt.year\n",
    "        A.drop(columns = \"release_date\",inplace = True)\n",
    "        return A"
   ]
  },
  {
   "cell_type": "code",
   "execution_count": 52,
   "metadata": {
    "ExecuteTime": {
     "end_time": "2021-06-29T17:29:13.877264Z",
     "start_time": "2021-06-29T17:29:13.862231Z"
    }
   },
   "outputs": [
    {
     "ename": "AttributeError",
     "evalue": "Can only use .dt accessor with datetimelike values",
     "output_type": "error",
     "traceback": [
      "\u001b[0;31m---------------------------------------------------------------------------\u001b[0m",
      "\u001b[0;31mAttributeError\u001b[0m                            Traceback (most recent call last)",
      "\u001b[0;32m<ipython-input-52-9c9b6a58baca>\u001b[0m in \u001b[0;36m<module>\u001b[0;34m\u001b[0m\n\u001b[1;32m      1\u001b[0m \u001b[0;31m#Try your transformer and save your new features here\u001b[0m\u001b[0;34m\u001b[0m\u001b[0;34m\u001b[0m\u001b[0;34m\u001b[0m\u001b[0m\n\u001b[0;32m----> 2\u001b[0;31m \u001b[0mX_time_features\u001b[0m \u001b[0;34m=\u001b[0m \u001b[0mTimeFeaturesExtractor\u001b[0m\u001b[0;34m(\u001b[0m\u001b[0;34m)\u001b[0m\u001b[0;34m.\u001b[0m\u001b[0mfit_transform\u001b[0m\u001b[0;34m(\u001b[0m\u001b[0mX\u001b[0m\u001b[0;34m[\u001b[0m\u001b[0;34m[\u001b[0m\u001b[0;34m'release_date'\u001b[0m\u001b[0;34m]\u001b[0m\u001b[0;34m]\u001b[0m\u001b[0;34m)\u001b[0m\u001b[0;34m\u001b[0m\u001b[0;34m\u001b[0m\u001b[0m\n\u001b[0m\u001b[1;32m      3\u001b[0m \u001b[0mX_time_features\u001b[0m\u001b[0;34m.\u001b[0m\u001b[0mhead\u001b[0m\u001b[0;34m(\u001b[0m\u001b[0;34m)\u001b[0m\u001b[0;34m\u001b[0m\u001b[0;34m\u001b[0m\u001b[0m\n",
      "\u001b[0;32m~/.pyenv/versions/3.8.6/envs/lewagon/lib/python3.8/site-packages/sklearn/base.py\u001b[0m in \u001b[0;36mfit_transform\u001b[0;34m(self, X, y, **fit_params)\u001b[0m\n\u001b[1;32m    688\u001b[0m         \u001b[0;32mif\u001b[0m \u001b[0my\u001b[0m \u001b[0;32mis\u001b[0m \u001b[0;32mNone\u001b[0m\u001b[0;34m:\u001b[0m\u001b[0;34m\u001b[0m\u001b[0;34m\u001b[0m\u001b[0m\n\u001b[1;32m    689\u001b[0m             \u001b[0;31m# fit method of arity 1 (unsupervised transformation)\u001b[0m\u001b[0;34m\u001b[0m\u001b[0;34m\u001b[0m\u001b[0;34m\u001b[0m\u001b[0m\n\u001b[0;32m--> 690\u001b[0;31m             \u001b[0;32mreturn\u001b[0m \u001b[0mself\u001b[0m\u001b[0;34m.\u001b[0m\u001b[0mfit\u001b[0m\u001b[0;34m(\u001b[0m\u001b[0mX\u001b[0m\u001b[0;34m,\u001b[0m \u001b[0;34m**\u001b[0m\u001b[0mfit_params\u001b[0m\u001b[0;34m)\u001b[0m\u001b[0;34m.\u001b[0m\u001b[0mtransform\u001b[0m\u001b[0;34m(\u001b[0m\u001b[0mX\u001b[0m\u001b[0;34m)\u001b[0m\u001b[0;34m\u001b[0m\u001b[0;34m\u001b[0m\u001b[0m\n\u001b[0m\u001b[1;32m    691\u001b[0m         \u001b[0;32melse\u001b[0m\u001b[0;34m:\u001b[0m\u001b[0;34m\u001b[0m\u001b[0;34m\u001b[0m\u001b[0m\n\u001b[1;32m    692\u001b[0m             \u001b[0;31m# fit method of arity 2 (supervised transformation)\u001b[0m\u001b[0;34m\u001b[0m\u001b[0;34m\u001b[0m\u001b[0;34m\u001b[0m\u001b[0m\n",
      "\u001b[0;32m<ipython-input-51-eaeeae3c0fa8>\u001b[0m in \u001b[0;36mtransform\u001b[0;34m(self, X, y)\u001b[0m\n\u001b[1;32m     18\u001b[0m         \u001b[0my\u001b[0m \u001b[0;34m=\u001b[0m \u001b[0mpd\u001b[0m\u001b[0;34m.\u001b[0m\u001b[0mto_datetime\u001b[0m\u001b[0;34m(\u001b[0m\u001b[0mA\u001b[0m\u001b[0;34m)\u001b[0m\u001b[0;34m\u001b[0m\u001b[0;34m\u001b[0m\u001b[0m\n\u001b[1;32m     19\u001b[0m         \u001b[0my\u001b[0m \u001b[0;34m=\u001b[0m \u001b[0mpd\u001b[0m\u001b[0;34m.\u001b[0m\u001b[0mDataFrame\u001b[0m\u001b[0;34m(\u001b[0m\u001b[0mA\u001b[0m\u001b[0;34m)\u001b[0m\u001b[0;34m\u001b[0m\u001b[0;34m\u001b[0m\u001b[0m\n\u001b[0;32m---> 20\u001b[0;31m         \u001b[0my\u001b[0m\u001b[0;34m[\u001b[0m\u001b[0;34m'Month'\u001b[0m\u001b[0;34m]\u001b[0m \u001b[0;34m=\u001b[0m \u001b[0my\u001b[0m\u001b[0;34m[\u001b[0m\u001b[0;34m'release_date'\u001b[0m\u001b[0;34m]\u001b[0m\u001b[0;34m.\u001b[0m\u001b[0mdt\u001b[0m\u001b[0;34m.\u001b[0m\u001b[0mmonth\u001b[0m\u001b[0;34m\u001b[0m\u001b[0;34m\u001b[0m\u001b[0m\n\u001b[0m\u001b[1;32m     21\u001b[0m         \u001b[0my\u001b[0m\u001b[0;34m[\u001b[0m\u001b[0;34m'year'\u001b[0m\u001b[0;34m]\u001b[0m \u001b[0;34m=\u001b[0m\u001b[0my\u001b[0m\u001b[0;34m[\u001b[0m\u001b[0;34m'release_date'\u001b[0m\u001b[0;34m]\u001b[0m\u001b[0;34m.\u001b[0m\u001b[0mdt\u001b[0m\u001b[0;34m.\u001b[0m\u001b[0myear\u001b[0m\u001b[0;34m\u001b[0m\u001b[0;34m\u001b[0m\u001b[0m\n\u001b[1;32m     22\u001b[0m         \u001b[0my\u001b[0m\u001b[0;34m.\u001b[0m\u001b[0mdrop\u001b[0m\u001b[0;34m(\u001b[0m\u001b[0mcolumns\u001b[0m \u001b[0;34m=\u001b[0m \u001b[0;34m\"release_date\"\u001b[0m\u001b[0;34m,\u001b[0m\u001b[0minplace\u001b[0m \u001b[0;34m=\u001b[0m \u001b[0;32mTrue\u001b[0m\u001b[0;34m)\u001b[0m\u001b[0;34m\u001b[0m\u001b[0;34m\u001b[0m\u001b[0m\n",
      "\u001b[0;32m~/.pyenv/versions/3.8.6/envs/lewagon/lib/python3.8/site-packages/pandas/core/generic.py\u001b[0m in \u001b[0;36m__getattr__\u001b[0;34m(self, name)\u001b[0m\n\u001b[1;32m   5133\u001b[0m             \u001b[0;32mor\u001b[0m \u001b[0mname\u001b[0m \u001b[0;32min\u001b[0m \u001b[0mself\u001b[0m\u001b[0;34m.\u001b[0m\u001b[0m_accessors\u001b[0m\u001b[0;34m\u001b[0m\u001b[0;34m\u001b[0m\u001b[0m\n\u001b[1;32m   5134\u001b[0m         ):\n\u001b[0;32m-> 5135\u001b[0;31m             \u001b[0;32mreturn\u001b[0m \u001b[0mobject\u001b[0m\u001b[0;34m.\u001b[0m\u001b[0m__getattribute__\u001b[0m\u001b[0;34m(\u001b[0m\u001b[0mself\u001b[0m\u001b[0;34m,\u001b[0m \u001b[0mname\u001b[0m\u001b[0;34m)\u001b[0m\u001b[0;34m\u001b[0m\u001b[0;34m\u001b[0m\u001b[0m\n\u001b[0m\u001b[1;32m   5136\u001b[0m         \u001b[0;32melse\u001b[0m\u001b[0;34m:\u001b[0m\u001b[0;34m\u001b[0m\u001b[0;34m\u001b[0m\u001b[0m\n\u001b[1;32m   5137\u001b[0m             \u001b[0;32mif\u001b[0m \u001b[0mself\u001b[0m\u001b[0;34m.\u001b[0m\u001b[0m_info_axis\u001b[0m\u001b[0;34m.\u001b[0m\u001b[0m_can_hold_identifiers_and_holds_name\u001b[0m\u001b[0;34m(\u001b[0m\u001b[0mname\u001b[0m\u001b[0;34m)\u001b[0m\u001b[0;34m:\u001b[0m\u001b[0;34m\u001b[0m\u001b[0;34m\u001b[0m\u001b[0m\n",
      "\u001b[0;32m~/.pyenv/versions/3.8.6/envs/lewagon/lib/python3.8/site-packages/pandas/core/accessor.py\u001b[0m in \u001b[0;36m__get__\u001b[0;34m(self, obj, cls)\u001b[0m\n\u001b[1;32m    185\u001b[0m             \u001b[0;31m# we're accessing the attribute of the class, i.e., Dataset.geo\u001b[0m\u001b[0;34m\u001b[0m\u001b[0;34m\u001b[0m\u001b[0;34m\u001b[0m\u001b[0m\n\u001b[1;32m    186\u001b[0m             \u001b[0;32mreturn\u001b[0m \u001b[0mself\u001b[0m\u001b[0;34m.\u001b[0m\u001b[0m_accessor\u001b[0m\u001b[0;34m\u001b[0m\u001b[0;34m\u001b[0m\u001b[0m\n\u001b[0;32m--> 187\u001b[0;31m         \u001b[0maccessor_obj\u001b[0m \u001b[0;34m=\u001b[0m \u001b[0mself\u001b[0m\u001b[0;34m.\u001b[0m\u001b[0m_accessor\u001b[0m\u001b[0;34m(\u001b[0m\u001b[0mobj\u001b[0m\u001b[0;34m)\u001b[0m\u001b[0;34m\u001b[0m\u001b[0;34m\u001b[0m\u001b[0m\n\u001b[0m\u001b[1;32m    188\u001b[0m         \u001b[0;31m# Replace the property with the accessor object. Inspired by:\u001b[0m\u001b[0;34m\u001b[0m\u001b[0;34m\u001b[0m\u001b[0;34m\u001b[0m\u001b[0m\n\u001b[1;32m    189\u001b[0m         \u001b[0;31m# https://www.pydanny.com/cached-property.html\u001b[0m\u001b[0;34m\u001b[0m\u001b[0;34m\u001b[0m\u001b[0;34m\u001b[0m\u001b[0m\n",
      "\u001b[0;32m~/.pyenv/versions/3.8.6/envs/lewagon/lib/python3.8/site-packages/pandas/core/indexes/accessors.py\u001b[0m in \u001b[0;36m__new__\u001b[0;34m(cls, data)\u001b[0m\n\u001b[1;32m    478\u001b[0m             \u001b[0;32mreturn\u001b[0m \u001b[0mPeriodProperties\u001b[0m\u001b[0;34m(\u001b[0m\u001b[0mdata\u001b[0m\u001b[0;34m,\u001b[0m \u001b[0morig\u001b[0m\u001b[0;34m)\u001b[0m\u001b[0;34m\u001b[0m\u001b[0;34m\u001b[0m\u001b[0m\n\u001b[1;32m    479\u001b[0m \u001b[0;34m\u001b[0m\u001b[0m\n\u001b[0;32m--> 480\u001b[0;31m         \u001b[0;32mraise\u001b[0m \u001b[0mAttributeError\u001b[0m\u001b[0;34m(\u001b[0m\u001b[0;34m\"Can only use .dt accessor with datetimelike values\"\u001b[0m\u001b[0;34m)\u001b[0m\u001b[0;34m\u001b[0m\u001b[0;34m\u001b[0m\u001b[0m\n\u001b[0m",
      "\u001b[0;31mAttributeError\u001b[0m: Can only use .dt accessor with datetimelike values"
     ]
    }
   ],
   "source": [
    "#Try your transformer and save your new features here\n",
    "X_time_features = TimeFeaturesExtractor().fit_transform(X[['release_date']])\n",
    "X_time_features.head()"
   ]
  },
  {
   "cell_type": "markdown",
   "metadata": {},
   "source": [
    "We still have 2 problems to solve\n",
    "- `month` is cyclical: 12 should be a close to 1 as to 11, right? \n",
    "- `year` is not scaled\n",
    "\n",
    "**📝 Build a final custom transformer `CyclicalEncoder` so that**\n",
    "\n",
    "Running\n",
    "```python\n",
    "CyclicalEncoder().fit_transform(X_time_features)\n",
    "``` \n",
    "should return something like this\n",
    "\n",
    "|    |    month_cos |   month_sin |      year |\n",
    "|---:|-------------:|------------:|----------:|\n",
    "|  0 |  0.5         |    0.866025 | 0.0466039 |\n",
    "|  1 | -0.5         |   -0.866025 | 0.0411502 |\n",
    "|  2 |  0.5         |   -0.866025 | 0.0461081 |\n",
    "|  3 |  6.12323e-17 |    1        | 0.0451165 |\n",
    "|  4 | -0.5         |   -0.866025 | 0.0451165 |\n",
    "\n",
    "With the cyclical encoding is done as below\n",
    "- `month_cos = 2 * math.pi / 12 * X[['month']] `\n",
    "- `month_sin = 2 * math.pi / 12 * X[['month']] `\n",
    "\n",
    "And the `year` begin min-max scaled"
   ]
  },
  {
   "cell_type": "code",
   "execution_count": 30,
   "metadata": {
    "ExecuteTime": {
     "end_time": "2021-06-29T17:29:13.884690Z",
     "start_time": "2021-06-29T17:29:13.879274Z"
    }
   },
   "outputs": [],
   "source": [
    "from sklearn.base import BaseEstimator, TransformerMixin\n",
    "import math\n",
    "\n",
    "class CyclicalEncoder(BaseEstimator, TransformerMixin):\n",
    "    \"\"\"\n",
    "    Encode a cyclical feature\n",
    "    \"\"\"\n",
    "    \n",
    "    def __init__(self):\n",
    "        pass\n",
    "\n",
    "    def fit(self, X, y=None):\n",
    "        \"\"\"\n",
    "        Compute here what you need for the transform phase and store it as instance variable\n",
    "        \"\"\"\n",
    "        pass  # YOUR CODE HERE\n",
    "\n",
    "    def transform(self, X, y=None):\n",
    "        \"\"\"\n",
    "        Compute and returns the final DataFrame\n",
    "        \"\"\"\n",
    "        pass  # YOUR CODE HERE"
   ]
  },
  {
   "cell_type": "code",
   "execution_count": 31,
   "metadata": {
    "ExecuteTime": {
     "end_time": "2021-06-29T17:29:13.899004Z",
     "start_time": "2021-06-29T17:29:13.886894Z"
    }
   },
   "outputs": [],
   "source": [
    "# Try your transformer and save your new features here\n",
    "#X_time_cyclical = CyclicalEncoder().fit_transform(X_time_features)\n",
    "#X_time_cyclical.head()"
   ]
  },
  {
   "cell_type": "code",
   "execution_count": 32,
   "metadata": {
    "ExecuteTime": {
     "end_time": "2021-06-29T17:29:14.052971Z",
     "start_time": "2021-06-29T17:29:13.900696Z"
    }
   },
   "outputs": [
    {
     "ename": "NameError",
     "evalue": "name 'X_time_cyclical' is not defined",
     "output_type": "error",
     "traceback": [
      "\u001b[0;31m---------------------------------------------------------------------------\u001b[0m",
      "\u001b[0;31mNameError\u001b[0m                                 Traceback (most recent call last)",
      "\u001b[0;32m<ipython-input-32-904ddb7179ad>\u001b[0m in \u001b[0;36m<module>\u001b[0;34m\u001b[0m\n\u001b[1;32m      1\u001b[0m \u001b[0;31m# Check that this form a circle with 12 points\u001b[0m\u001b[0;34m\u001b[0m\u001b[0;34m\u001b[0m\u001b[0;34m\u001b[0m\u001b[0m\n\u001b[0;32m----> 2\u001b[0;31m plt.scatter(X_time_cyclical['month_cos'],\n\u001b[0m\u001b[1;32m      3\u001b[0m             X_time_cyclical['month_sin'])\n\u001b[1;32m      4\u001b[0m \u001b[0mplt\u001b[0m\u001b[0;34m.\u001b[0m\u001b[0mxlabel\u001b[0m\u001b[0;34m(\u001b[0m\u001b[0;34m\"month_cos\"\u001b[0m\u001b[0;34m)\u001b[0m\u001b[0;34m;\u001b[0m \u001b[0mplt\u001b[0m\u001b[0;34m.\u001b[0m\u001b[0mylabel\u001b[0m\u001b[0;34m(\u001b[0m\u001b[0;34m\"month_sin\"\u001b[0m\u001b[0;34m)\u001b[0m\u001b[0;34m;\u001b[0m\u001b[0;34m\u001b[0m\u001b[0;34m\u001b[0m\u001b[0m\n",
      "\u001b[0;31mNameError\u001b[0m: name 'X_time_cyclical' is not defined"
     ]
    }
   ],
   "source": [
    "# Check that this form a circle with 12 points\n",
    "plt.scatter(X_time_cyclical['month_cos'],\n",
    "            X_time_cyclical['month_sin'])\n",
    "plt.xlabel(\"month_cos\"); plt.ylabel(\"month_sin\");"
   ]
  },
  {
   "cell_type": "markdown",
   "metadata": {},
   "source": [
    "**📝 Enhance your `basic_pipeline` with a new preprocessing including both `TimeFeaturesExtractor` and `CyclicalFeatureExtractor`:**\n",
    "\n",
    "- Just use `TimeFeatureExtractor` if you haven't had time to do the `Cyclical` one\n",
    "- Store this new pipeline as `time_pipeline`\n",
    "- Keep same estimator for now"
   ]
  },
  {
   "cell_type": "code",
   "execution_count": null,
   "metadata": {
    "ExecuteTime": {
     "end_time": "2021-06-29T17:29:14.077345Z",
     "start_time": "2021-06-29T17:29:14.054521Z"
    },
    "tags": [
     "challengify"
    ]
   },
   "outputs": [],
   "source": [
    "# YOUR CODE HERE"
   ]
  },
  {
   "cell_type": "markdown",
   "metadata": {},
   "source": [
    "### Advanced categorical encoder to reduce the number of features\n",
    "\n",
    "ℹ️ Most of it has already been coded for you and it shouldn't take long. Still if you want to skip it and move to the next section: _Model Tuning_"
   ]
  },
  {
   "cell_type": "markdown",
   "metadata": {},
   "source": [
    "👉 We need to reduce the number of features to one-hot-encode, which arise from the high cardinality of `all_genres` and `top_countries`"
   ]
  },
  {
   "cell_type": "code",
   "execution_count": null,
   "metadata": {
    "ExecuteTime": {
     "end_time": "2021-06-29T17:29:14.191964Z",
     "start_time": "2021-06-29T17:29:14.184044Z"
    }
   },
   "outputs": [],
   "source": [
    "X[['all_genres', 'top_countries']].nunique()"
   ]
  },
  {
   "cell_type": "markdown",
   "metadata": {},
   "source": [
    "👇 Both share a common pattern: there can be more than 1 country and more than 1 genre per movie."
   ]
  },
  {
   "cell_type": "code",
   "execution_count": null,
   "metadata": {
    "ExecuteTime": {
     "end_time": "2021-06-29T17:29:14.201275Z",
     "start_time": "2021-06-29T17:29:14.193459Z"
    }
   },
   "outputs": [],
   "source": [
    "X[['all_genres', 'top_countries']].tail()"
   ]
  },
  {
   "cell_type": "markdown",
   "metadata": {},
   "source": [
    "👉 Run the cell below where we have coded for you a custom transformer `CustomGenreAndCountryEncoder` which: \n",
    "- Select the 10 most frequent genres and the 5 most frequent countries\n",
    "- Encode `all_genres` into 10 One Hot Encoded features\n",
    "- Encode `top_countries` into 5 One Hot Encoded features"
   ]
  },
  {
   "cell_type": "code",
   "execution_count": null,
   "metadata": {
    "ExecuteTime": {
     "end_time": "2021-06-29T17:29:14.210953Z",
     "start_time": "2021-06-29T17:29:14.202791Z"
    }
   },
   "outputs": [],
   "source": [
    "from collections import Counter\n",
    "from sklearn.base import BaseEstimator, TransformerMixin\n",
    "\n",
    "class CustomGenreAndCountryEncoder(BaseEstimator, TransformerMixin):\n",
    "    \"\"\"\n",
    "    Encoding the all_genres and top_companies features which are multi-categorical :\n",
    "    a movie has several possible genres and countries of productions!\n",
    "    \"\"\"\n",
    "\n",
    "    def __init__(self):\n",
    "        pass\n",
    "\n",
    "    def fit(self, X, y=None):\n",
    "        \"\"\"\n",
    "        compute top genres and top countries of productions from all_genres and top_countries features\n",
    "        \"\"\"\n",
    "\n",
    "        # compute top 10 genres       \n",
    "        list_of_genres = list(X['all_genres'].apply(lambda x: [i.strip() for i in x.split(\",\")] if x != [''] else []).values)\n",
    "        top_genres = [m[0] for m in Counter([i for j in list_of_genres for i in j]).most_common(10)]\n",
    "\n",
    "        # save top_genres in dedicated instance variable\n",
    "        self.top_genres = top_genres\n",
    "        \n",
    "         # compute top 5 countries       \n",
    "        list_of_countries = list(X['top_countries'].apply(lambda x: [i.strip() for i in x.split(\",\")] if x != [''] else []).values)\n",
    "        top_countries = [m[0] for m in Counter([i for j in list_of_countries for i in j]).most_common(5)]\n",
    "\n",
    "        # save top_countries in dedicated instance variable\n",
    "        self.top_countries = top_countries\n",
    "\n",
    "        return self\n",
    "\n",
    "    def transform(self, X, y=None):\n",
    "        \"\"\"\n",
    "        encoding genre and country\n",
    "        \"\"\"\n",
    "        X_new = X.copy()\n",
    "        for genre in self.top_genres:\n",
    "            X_new['genre_' + genre] = X_new['all_genres'].apply(lambda x: 1 if genre in x else 0)\n",
    "        X_new = X_new.drop(columns=[\"all_genres\"])\n",
    "        for country in self.top_countries:\n",
    "            X_new['country_' + country] = X_new['top_countries'].apply(lambda x: 1 if country in x else 0)\n",
    "        X_new = X_new.drop(columns=[\"top_countries\"])\n",
    "        return X_new"
   ]
  },
  {
   "cell_type": "code",
   "execution_count": null,
   "metadata": {
    "ExecuteTime": {
     "end_time": "2021-06-29T17:29:14.289418Z",
     "start_time": "2021-06-29T17:29:14.212506Z"
    }
   },
   "outputs": [],
   "source": [
    "# Check it out\n",
    "X_custom = CustomGenreAndCountryEncoder().fit_transform(X[['all_genres', 'top_countries']])\n",
    "print(X_custom.shape)\n",
    "X_custom.head()"
   ]
  },
  {
   "cell_type": "markdown",
   "metadata": {},
   "source": [
    "**📝 Compute your `final_pipeline` by integrating all these transformers** (or all those you have coded)\n",
    "\n",
    "- `CustomGenreAndCountryEncoder`\n",
    "- `TimeFeaturesExtractor`\n",
    "- `CyclicalFeatureExtractor`"
   ]
  },
  {
   "cell_type": "code",
   "execution_count": null,
   "metadata": {
    "ExecuteTime": {
     "end_time": "2021-06-29T17:29:14.316693Z",
     "start_time": "2021-06-29T17:29:14.291225Z"
    },
    "tags": [
     "challengify"
    ]
   },
   "outputs": [],
   "source": [
    "final_preprocessing= ColumnTransformer([\n",
    "    ('num_transformer', num_transformer, numerical),\n",
    "    ('cat1_transformer', cat_transformer, [\"status\",\"has_collection\",\"number_of_top_productions\",\"available_in_english\"]),\n",
    "    ('cat2_transformer', CustomGenreAndCountryEncoder(), ['all_genres', 'top_countries'])],remainder=\"drop\")\n",
    "\n",
    "final_preprocessing"
   ]
  },
  {
   "cell_type": "code",
   "execution_count": null,
   "metadata": {},
   "outputs": [],
   "source": [
    "# Instanciate the model\n",
    "model = Lasso(alpha=0.2)\n",
    "\n",
    "# Final pipe\n",
    "final_pipeline = Pipeline([\n",
    "('final_preprocessing', final_preprocessing),\n",
    "('model', model)])\n",
    "\n",
    "final_pipeline.get_params()"
   ]
  },
  {
   "cell_type": "markdown",
   "metadata": {},
   "source": [
    "📝 **Compute and store its cross validated scores as `final_scores` array of floats**\n",
    "\n",
    "- It does not necessarily improve the performance before we can try-out doing model tuning\n",
    "- However, with a now limited number of features, we will be able to train more complex models in next section (ensemble...)"
   ]
  },
  {
   "cell_type": "code",
   "execution_count": null,
   "metadata": {},
   "outputs": [],
   "source": [
    "result = cross_val_score(final_pipeline, X, y, cv=10)\n",
    "result"
   ]
  },
  {
   "cell_type": "code",
   "execution_count": null,
   "metadata": {},
   "outputs": [],
   "source": [
    "final_scores = result"
   ]
  },
  {
   "cell_type": "markdown",
   "metadata": {},
   "source": [
    "### 🧪 Save your result\n",
    "\n",
    "Run the following cell to save your results."
   ]
  },
  {
   "cell_type": "code",
   "execution_count": null,
   "metadata": {
    "ExecuteTime": {
     "end_time": "2021-06-29T17:29:15.204479Z",
     "start_time": "2021-06-29T17:29:15.198198Z"
    }
   },
   "outputs": [],
   "source": [
    "ChallengeResult(\n",
    "    'feature_engineering',\n",
    "    X_time_features=X_time_features,\n",
    "    X_time_cyclical= X_time_cyclical,\n",
    "    time_pipeline=time_pipeline,\n",
    "    final_pipeline=final_pipeline,\n",
    "    final_scores=final_scores\n",
    ").write()\n",
    "\n",
    "# Hint: Try restarting your notebook if you obtain an error about saving a custom encoder"
   ]
  },
  {
   "cell_type": "markdown",
   "metadata": {},
   "source": [
    "## Model tuning"
   ]
  },
  {
   "cell_type": "markdown",
   "metadata": {},
   "source": [
    "### Random Forest"
   ]
  },
  {
   "cell_type": "markdown",
   "metadata": {},
   "source": [
    "📝 **Change the estimator of your `final_pipeline` by a Random Forest and checkout your new cross-validated score**"
   ]
  },
  {
   "cell_type": "code",
   "execution_count": null,
   "metadata": {
    "ExecuteTime": {
     "end_time": "2021-06-29T17:29:19.391364Z",
     "start_time": "2021-06-29T17:29:15.206532Z"
    },
    "tags": [
     "challengify"
    ]
   },
   "outputs": [],
   "source": [
    "from sklearn.ensemble import RandomForestRegressor\n",
    "\n",
    "forest= RandomForestRegressor(n_estimators=50)\n",
    "\n",
    "# Final pipe\n",
    "final_pipeline = Pipeline([\n",
    "('final_preprocessing', final_preprocessing),\n",
    "('model', forest)])\n",
    "\n"
   ]
  },
  {
   "cell_type": "code",
   "execution_count": null,
   "metadata": {},
   "outputs": [],
   "source": [
    "result = cross_val_score(final_pipeline, X, y, cv=10)\n",
    "result"
   ]
  },
  {
   "cell_type": "markdown",
   "metadata": {},
   "source": [
    "### Best hyperparameters quest\n",
    "\n",
    "\n",
    "\n",
    "**📝 Fine tune your model to try to get the best performance in the minimum amount of time!**\n",
    "\n",
    "- Store the result of your search inside the `search` variable.\n",
    "- Store your 5 cross-validated scores inside `best_scores` array of floats"
   ]
  },
  {
   "cell_type": "code",
   "execution_count": null,
   "metadata": {},
   "outputs": [],
   "source": [
    "final_pipeline.get_params()"
   ]
  },
  {
   "cell_type": "code",
   "execution_count": null,
   "metadata": {
    "ExecuteTime": {
     "end_time": "2021-06-29T17:29:19.431573Z",
     "start_time": "2021-06-29T17:29:19.394891Z"
    },
    "scrolled": false,
    "tags": [
     "challengify"
    ]
   },
   "outputs": [],
   "source": [
    "from sklearn.model_selection import RandomizedSearchCV\n",
    "from scipy.stats import uniform\n",
    "\n",
    "# Random search \n",
    "random_search = RandomizedSearchCV(\n",
    "    final_pipeline, \n",
    "    param_distributions ={\n",
    "        'model__n_estimators' : [10, 50, 70, 100],\n",
    "        'model__min_samples_leaf':[1,2,3]},\n",
    "    cv=5,\n",
    "    n_iter = 30)\n",
    "\n",
    "random_search.fit(X,y)\n",
    "\n",
    "tuned_pipe = random_search.best_estimator_\n",
    "tuned_pipe\n",
    "\n",
    "\n",
    "\n"
   ]
  },
  {
   "cell_type": "code",
   "execution_count": null,
   "metadata": {},
   "outputs": [],
   "source": [
    "search = tuned_pipe"
   ]
  },
  {
   "cell_type": "code",
   "execution_count": null,
   "metadata": {},
   "outputs": [],
   "source": [
    "best_scores = cross_val_score(tuned_pipe, X, y, cv=5)"
   ]
  },
  {
   "cell_type": "code",
   "execution_count": null,
   "metadata": {},
   "outputs": [],
   "source": [
    "best_scores"
   ]
  },
  {
   "cell_type": "markdown",
   "metadata": {},
   "source": [
    "**📝 Re-train your best pipeline on the whole (X,y) dataset**\n",
    "- Store the trained pipeline inside the `best_pipeline` variable"
   ]
  },
  {
   "cell_type": "code",
   "execution_count": null,
   "metadata": {
    "ExecuteTime": {
     "end_time": "2021-06-29T17:30:18.200730Z",
     "start_time": "2021-06-29T17:30:14.992877Z"
    },
    "tags": [
     "challengify"
    ]
   },
   "outputs": [],
   "source": [
    "best_pipeline = tuned_pipe"
   ]
  },
  {
   "cell_type": "code",
   "execution_count": null,
   "metadata": {},
   "outputs": [],
   "source": []
  },
  {
   "cell_type": "markdown",
   "metadata": {},
   "source": [
    "### Prediction\n",
    "\n",
    "Now you have your model tuned with the best hyperparameters, you are ready for a prediction.\n",
    "\n",
    "Here is a famous TV show released in 2017:\n",
    "\n",
    "```python\n",
    "dict(\n",
    "        original_title=str(\"La Casa de Papel\"),\n",
    "        title=str(\"Money Heist\"), \n",
    "        release_date= pd.to_datetime([\"2017-05-02\"]), \n",
    "        duration_min=float(50),\n",
    "        description=str(\"An unusual group of robbers attempt to carry out the most perfect robbery\"), \n",
    "        budget=float(3_000_000), \n",
    "        original_language =str(\"es\"), \n",
    "        status=str(\"Released\"),\n",
    "        number_of_awards_won =int(2), \n",
    "        number_of_nominations=int(5), \n",
    "        has_collection=int(1),\n",
    "        all_genres=str(\"Action, Crime, Mystery\"), \n",
    "        top_countries=str(\"Spain, France, United States of America\"), \n",
    "        number_of_top_productions=int('1'),\n",
    "        available_in_english=bool('True') \n",
    ")\n",
    "```\n",
    "\n",
    "**📝 Compute the predicted popularity of this TV show and store it into the `popularity` variable as a floating number.**"
   ]
  },
  {
   "cell_type": "code",
   "execution_count": null,
   "metadata": {
    "ExecuteTime": {
     "end_time": "2021-06-29T17:30:18.209145Z",
     "start_time": "2021-06-29T17:30:18.202809Z"
    },
    "tags": [
     "challengify"
    ]
   },
   "outputs": [],
   "source": [
    " tv_show = dict(\n",
    "        original_title=str(\"La Casa de Papel\"),\n",
    "        title=str(\"Money Heist\"), \n",
    "        release_date= pd.to_datetime([\"2017-05-02\"]), \n",
    "        duration_min=float(50),\n",
    "        description=str(\"An unusual group of robbers attempt to carry out the most perfect robbery\"), \n",
    "        budget=float(3_000_000), \n",
    "        original_language =str(\"es\"), \n",
    "        status=str(\"Released\"),\n",
    "        number_of_awards_won =int(2), \n",
    "        number_of_nominations=int(5), \n",
    "        has_collection=int(1),\n",
    "        all_genres=str(\"Action, Crime, Mystery\"), \n",
    "        top_countries=str(\"Spain, France, United States of America\"), \n",
    "        number_of_top_productions=int('1'),\n",
    "        available_in_english=bool('True') \n",
    ")"
   ]
  },
  {
   "cell_type": "code",
   "execution_count": null,
   "metadata": {
    "ExecuteTime": {
     "end_time": "2021-06-29T17:30:18.293267Z",
     "start_time": "2021-06-29T17:30:18.211979Z"
    },
    "scrolled": false,
    "tags": [
     "challengify"
    ]
   },
   "outputs": [],
   "source": [
    "tv_show.keys()"
   ]
  },
  {
   "cell_type": "code",
   "execution_count": null,
   "metadata": {
    "scrolled": true
   },
   "outputs": [],
   "source": [
    "new_X = pd.DataFrame(tv_show)\n",
    "new_X"
   ]
  },
  {
   "cell_type": "code",
   "execution_count": null,
   "metadata": {},
   "outputs": [],
   "source": [
    "\n",
    "\n",
    "prediction = best_pipeline.predict(new_X)[0]\n",
    "prediction"
   ]
  },
  {
   "cell_type": "code",
   "execution_count": null,
   "metadata": {},
   "outputs": [],
   "source": [
    "popularity = prediction"
   ]
  },
  {
   "cell_type": "markdown",
   "metadata": {},
   "source": [
    "### 🧪 Save your results\n",
    "\n",
    "Run the following cell to save your results."
   ]
  },
  {
   "cell_type": "code",
   "execution_count": null,
   "metadata": {
    "ExecuteTime": {
     "end_time": "2021-06-29T17:30:18.492068Z",
     "start_time": "2021-06-29T17:30:18.294946Z"
    }
   },
   "outputs": [],
   "source": [
    "ChallengeResult(\n",
    "    \"model_tuning\",\n",
    "    search=search,\n",
    "    best_pipeline=best_pipeline,\n",
    "    best_scores = best_scores,\n",
    "    popularity=popularity\n",
    ").write()"
   ]
  },
  {
   "cell_type": "markdown",
   "metadata": {},
   "source": [
    "## API \n",
    "\n",
    "Time to put a pipeline in production!\n",
    "\n",
    "👉 Go to https://github.com/lewagon/data-certification-api and follow instructions\n",
    "\n",
    "**This final part is independent from the above notebook**"
   ]
  }
 ],
 "metadata": {
  "interpreter": {
   "hash": "572b4e543617d03e90ecaf525e08695da1ff29b13594f787e33b342cf572f792"
  },
  "kernelspec": {
   "display_name": "Python 3",
   "language": "python",
   "name": "python3"
  },
  "language_info": {
   "codemirror_mode": {
    "name": "ipython",
    "version": 3
   },
   "file_extension": ".py",
   "mimetype": "text/x-python",
   "name": "python",
   "nbconvert_exporter": "python",
   "pygments_lexer": "ipython3",
   "version": "3.8.6"
  },
  "toc": {
   "base_numbering": 1,
   "nav_menu": {},
   "number_sections": true,
   "sideBar": true,
   "skip_h1_title": true,
   "title_cell": "Table of Contents",
   "title_sidebar": "Contents",
   "toc_cell": false,
   "toc_position": {
    "height": "calc(100% - 180px)",
    "left": "10px",
    "top": "150px",
    "width": "242px"
   },
   "toc_section_display": true,
   "toc_window_display": true
  },
  "varInspector": {
   "cols": {
    "lenName": 16,
    "lenType": 16,
    "lenVar": 40
   },
   "kernels_config": {
    "python": {
     "delete_cmd_postfix": "",
     "delete_cmd_prefix": "del ",
     "library": "var_list.py",
     "varRefreshCmd": "print(var_dic_list())"
    },
    "r": {
     "delete_cmd_postfix": ") ",
     "delete_cmd_prefix": "rm(",
     "library": "var_list.r",
     "varRefreshCmd": "cat(var_dic_list()) "
    }
   },
   "types_to_exclude": [
    "module",
    "function",
    "builtin_function_or_method",
    "instance",
    "_Feature"
   ],
   "window_display": false
  }
 },
 "nbformat": 4,
 "nbformat_minor": 4
}
